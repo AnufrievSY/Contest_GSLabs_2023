{
 "cells": [
  {
   "cell_type": "code",
   "execution_count": 1,
   "id": "012a3d31-ed21-4f7a-824b-3e80eeffa215",
   "metadata": {},
   "outputs": [],
   "source": [
    "import metric_map as map"
   ]
  },
  {
   "cell_type": "code",
   "execution_count": 3,
   "id": "706c083d-45d5-47c4-a530-f9ce01ea42ba",
   "metadata": {},
   "outputs": [
    {
     "data": {
      "text/plain": [
       "'output/result.csv'"
      ]
     },
     "execution_count": 3,
     "metadata": {},
     "output_type": "execute_result"
    }
   ],
   "source": [
    "PREDICT_FILE: str = \"output/result.csv\" # файл с предсказаниями рекомендаций\n",
    "TEST_LOG_FILE: str = \"train/split_train_2.csv\" # файл с тестовой выборкой\n",
    "TRAIN_LOG_FILE: str = \"train/split_train_1.csv\" # файл с обучающей выборкой\n",
    "LIMIT_ROW: int = 0 # лимит проверенных строчек"
   ]
  }
 ],
 "metadata": {
  "kernelspec": {
   "display_name": "Python 3 (ipykernel)",
   "language": "python",
   "name": "python3"
  },
  "language_info": {
   "codemirror_mode": {
    "name": "ipython",
    "version": 3
   },
   "file_extension": ".py",
   "mimetype": "text/x-python",
   "name": "python",
   "nbconvert_exporter": "python",
   "pygments_lexer": "ipython3",
   "version": "3.11.4"
  }
 },
 "nbformat": 4,
 "nbformat_minor": 5
}
